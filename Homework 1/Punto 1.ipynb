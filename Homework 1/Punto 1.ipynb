{
 "cells": [
  {
   "cell_type": "markdown",
   "id": "2d6e0426",
   "metadata": {},
   "source": [
    "# Solubility conditions of least squares."
   ]
  },
  {
   "cell_type": "markdown",
   "id": "a33a9f64",
   "metadata": {},
   "source": [
    "Let $ \\displaystyle \\{(x_{i},y_{i}) \\}_{i=1}^{n}$ a set of $n$ points and let $\\displaystyle \\{f_{j}(x)\\}_{j=1}^{m}$ a set of $m$ functions linearly independent. We need to find a function $f(x)$ that interpolates each of these data from this set of functions, then it would have to be true that\n",
    "\n",
    "$$ \\displaystyle \\sum_{j=1}^{m}c_{j}f_{j}(x_{k}) = y_{k} $$\n",
    "\n",
    "which in matrix form is expressed as\n",
    "\n",
    "$$\n",
    "\\begin{bmatrix}\n",
    "f_{1}(x_{1}) & f_{2}(x_{1}) & \\ldots & f_{m}(x_{1}) \\\\\n",
    "f_{1}(x_{2}) & f_{2}(x_{2}) & \\ldots & f_{m}(x_{2}) \\\\\n",
    "\\vdots & \\vdots & \\ddots & \\vdots \\\\\n",
    "f_{1}(x_{n}) & f_{2}(x_{n}) & \\ldots & f_{m}(x_{n}) \\\\\n",
    "\\end{bmatrix} \\begin{bmatrix}\n",
    "c_{1} \\\\ c_{2} \\\\ \\vdots \\\\ c_{n} \n",
    "\\end{bmatrix} =  \\begin{bmatrix}\n",
    "y_{1} \\\\ y_{2} \\\\ \\vdots \\\\ y_{n} \n",
    "\\end{bmatrix}\n",
    "$$\n",
    "\n",
    "This establishes a system of $n$ equations and $m$ variables, and as in general $n>m$ (the amount of data is generally much larger than the amount of features), the system would not always have a general solution. Therefore, the approximation will actually try to find the vector $x$ that best approximates $Ax = b$, from where we get the following minimization problem \n",
    "\n",
    "$$\\text{arg min}_{x} ||Ax-y||_{2}^{2} $$"
   ]
  },
  {
   "cell_type": "markdown",
   "id": "1494fb2e",
   "metadata": {},
   "source": [
    "where the objective function is $ J(\\mathbf x) = \\| Ax - b \\|_2^2 $, note that"
   ]
  },
  {
   "cell_type": "markdown",
   "id": "18e8fe17",
   "metadata": {},
   "source": [
    "\\begin{align*}\n",
    " J(\\mathbf x) & = \\| Ax - b \\|_2^2 \\\\\n",
    "              & = (Ax-b)^{T}(Ax-b) \\\\\n",
    "              & = (x^{T}A^T-b^T)(Ax-b) \\\\\n",
    "              & = x^{T}A^{T}Ax-x^{T}A^{T}b-b^{T}Ax- b^{T}b \\\\\n",
    "              & = x^{T}A^{T}Ax-2x^{T}A^{T}b- b^{T}b\n",
    "\\end{align*}"
   ]
  },
  {
   "cell_type": "markdown",
   "id": "1473a3ac",
   "metadata": {},
   "source": [
    "Minimizing the objetive function $J(x)$ with respect to $x$"
   ]
  },
  {
   "cell_type": "markdown",
   "id": "d541748b",
   "metadata": {},
   "source": [
    "\\begin{align*}\n",
    "\\frac{\\partial}{\\partial x}J(x)  & = \\frac{\\partial}{\\partial x}(x^{T}A^{T}Ax-2x^{T}A^{T}b- b^{T}b) \\\\\n",
    "                                 & = 2A^{T}Ax-2A^{T}b\n",
    "\\end{align*}\n",
    " "
   ]
  },
  {
   "cell_type": "markdown",
   "id": "c251a3ec",
   "metadata": {},
   "source": [
    "So its global minimum $\\tilde{x}$ satisfies $A^T A \\tilde{x} = A^T b$. We have the following result."
   ]
  },
  {
   "cell_type": "markdown",
   "id": "3d87105a",
   "metadata": {},
   "source": [
    "If $A$ is a matrix $A_{m x n}$ with $m > n$ and $\\text{rank}(A)=n$, then a solution for $A^T A x = A^T b$ is $x = A^{+}b$ with $A^{+} = (A^{T}A)^{-1}A^{T}$. In this case, the solution is not exact. It finds the solution that is closest in the least squares sense. Since $\\text{rank}(A)=n$, then $A^{T}A$ is a $n\\times n$ matrix with $rank(A^{T}A)=n$, in consecuence, $(A^{T}A)^{-1}$ exists and then $\\tilde{x}=(A^{T}A)^{-1}A^{T}$. We need $m>n$ because if $m=n$ then the system of equations would have a single solution, and therefore it would not make sense to find the minimum; and if $m < n$ then our system of equations would have no solution. "
   ]
  }
 ],
 "metadata": {
  "kernelspec": {
   "display_name": "Julia 1.7.2",
   "language": "julia",
   "name": "julia-1.7"
  },
  "language_info": {
   "file_extension": ".jl",
   "mimetype": "application/julia",
   "name": "julia",
   "version": "1.7.2"
  }
 },
 "nbformat": 4,
 "nbformat_minor": 5
}
