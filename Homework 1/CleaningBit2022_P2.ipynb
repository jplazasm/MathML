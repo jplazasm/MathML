{
 "cells": [
  {
   "cell_type": "code",
   "execution_count": 17,
   "id": "a84b36dc",
   "metadata": {},
   "outputs": [],
   "source": [
    "from datetime import datetime, timedelta\n",
    "import pandas as pd"
   ]
  },
  {
   "cell_type": "code",
   "execution_count": 18,
   "id": "e394105c",
   "metadata": {},
   "outputs": [],
   "source": [
    "#Crear un dataframe con las fechas que van del 2022\n",
    "\n",
    "inicio = datetime(2022,1,1);\n",
    "fin   = datetime(2022,3,26);\n",
    "\n",
    "lista_fechas = [(inicio + timedelta(days=d)).strftime(\"%Y-%m-%d\")\n",
    "                    for d in range((fin - inicio).days + 1)] \n",
    "Date = pd.DataFrame(lista_fechas, columns = [\"Date\"])\n",
    "Date[\"Date\"] = Date[\"Date\"].astype(\"datetime64[ns]\")"
   ]
  },
  {
   "cell_type": "code",
   "execution_count": 19,
   "id": "727bce29",
   "metadata": {},
   "outputs": [],
   "source": [
    "bit2022 = pd.read_csv(r\"C:\\Users\\felip\\OneDrive\\Documentos\\MathML\\Taller 1\\Datos\\bit2022.csv\")\n",
    "bit2022 = bit2022[[\"Date\", \"Close\"]]\n",
    "def clean_dfs(df):\n",
    "    df.columns = [\"Date\", \"PriceBit\"]\n",
    "\n",
    "    df[\"Date\"] = df[\"Date\"].astype(\"datetime64[ns]\")\n",
    "    df = df.sort_values(by=['Date'], ascending = True)\n",
    "\n",
    "    df[\"PriceBit\"] = df[\"PriceBit\"].astype(\"string\")\n",
    "    df[\"PriceBit\"] = df[\"PriceBit\"].str.replace(',', '.') \n",
    "    df[\"PriceBit\"] = df[\"PriceBit\"].astype(\"float64\")\n",
    "    return df\n",
    "\n",
    "bit2022 = clean_dfs(bit2022)"
   ]
  },
  {
   "cell_type": "code",
   "execution_count": 20,
   "id": "1c1a496b",
   "metadata": {},
   "outputs": [],
   "source": [
    "bit2022.to_csv(r\"C:\\Users\\felip\\OneDrive\\Documentos\\MathML\\Taller 1\\Datos\\Bit2022_cleaned.csv\")"
   ]
  }
 ],
 "metadata": {
  "kernelspec": {
   "display_name": "Python 3 (ipykernel)",
   "language": "python",
   "name": "python3"
  },
  "language_info": {
   "codemirror_mode": {
    "name": "ipython",
    "version": 3
   },
   "file_extension": ".py",
   "mimetype": "text/x-python",
   "name": "python",
   "nbconvert_exporter": "python",
   "pygments_lexer": "ipython3",
   "version": "3.9.7"
  }
 },
 "nbformat": 4,
 "nbformat_minor": 5
}
